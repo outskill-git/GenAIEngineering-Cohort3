{
 "cells": [
  {
   "cell_type": "code",
   "execution_count": 1,
   "id": "56d863ea",
   "metadata": {},
   "outputs": [
    {
     "name": "stdout",
     "output_type": "stream",
     "text": [
      "numpy==2.3.2\n"
     ]
    }
   ],
   "source": [
    "! pip freeze | grep numpy"
   ]
  }
 ],
 "metadata": {
  "kernelspec": {
   "display_name": "new_numpy_env",
   "language": "python",
   "name": "python3"
  },
  "language_info": {
   "codemirror_mode": {
    "name": "ipython",
    "version": 3
   },
   "file_extension": ".py",
   "mimetype": "text/x-python",
   "name": "python",
   "nbconvert_exporter": "python",
   "pygments_lexer": "ipython3",
   "version": "3.11.2"
  }
 },
 "nbformat": 4,
 "nbformat_minor": 5
}
