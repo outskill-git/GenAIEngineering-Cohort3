{
  "cells": [
    {
      "cell_type": "markdown",
      "metadata": {},
      "source": [
        "# Python Basics for Beginners\n",
        "\n",
        "Welcome to Python programming! This notebook will guide you through the fundamental concepts of Python step by step. Each section builds on the previous one, so work through them in order.\n",
        "\n",
        "## How to use this notebook:\n",
        "- Read the explanations in markdown cells\n",
        "- Run the code cells by pressing Shift+Enter\n",
        "- Experiment by modifying the code\n",
        "- Try the exercises at the end of each section"
      ]
    },
    {
      "cell_type": "markdown",
      "metadata": {},
      "source": [
        "## 1. Hello World - Your First Python Program\n",
        "\n",
        "Every programming journey starts with \"Hello, World!\" - it's a tradition! Let's learn about:\n",
        "- The `print()` function\n",
        "- Comments (lines that don't run)\n",
        "- Displaying different types of data"
      ]
    },
    {
      "cell_type": "code",
      "execution_count": null,
      "metadata": {},
      "outputs": [],
      "source": [
        "# This is your first Python program!\n",
        "# Lines starting with # are comments - they don't run, they just explain things\n",
        "\n",
        "# The print() function displays text on the screen\n",
        "print(\"Hello, World!\")\n",
        "print(\"Welcome to Python programming!\")"
      ]
    },
    {
      "cell_type": "code",
      "execution_count": null,
      "metadata": {},
      "outputs": [],
      "source": [
        "# You can print numbers too\n",
        "print(42)\n",
        "print(3.14)\n",
        "\n",
        "# Try changing these values and running the cell again!"
      ]
    },
    {
      "cell_type": "markdown",
      "metadata": {},
      "source": [
        "**Try it yourself:** Modify the code above to print your name and favorite number!"
      ]
    },
    {
      "cell_type": "markdown",
      "metadata": {},
      "source": [
        "## 2. Variables - Storing Information\n",
        "\n",
        "Variables are like labeled boxes that store information. Python is flexible - you don't need to declare what type of data you're storing!\n",
        "\n",
        "**Main data types:**\n",
        "- **String**: Text (in quotes)\n",
        "- **Integer**: Whole numbers\n",
        "- **Float**: Decimal numbers\n",
        "- **Boolean**: True or False"
      ]
    },
    {
      "cell_type": "code",
      "execution_count": null,
      "metadata": {},
      "outputs": [],
      "source": [
        "# Creating variables (no need to declare types!)\n",
        "name = \"Alice\"          # String (text)\n",
        "age = 25               # Integer (whole number)\n",
        "height = 5.6           # Float (decimal number)\n",
        "is_student = True      # Boolean (True or False)\n",
        "\n",
        "# Using variables\n",
        "print(\"Name:\", name)\n",
        "print(\"Age:\", age)\n",
        "print(\"Height:\", height, \"feet\")\n",
        "print(\"Is student:\", is_student)"
      ]
    },
    {
      "cell_type": "code",
      "execution_count": null,
      "metadata": {},
      "outputs": [],
      "source": [
        "# Variables can change\n",
        "age = 26\n",
        "print(\"New age:\", age)\n",
        "\n",
        "# You can use variables in calculations\n",
        "birth_year = 2025 - age\n",
        "print(\"Birth year:\", birth_year)"
      ]
    },
    {
      "cell_type": "code",
      "execution_count": null,
      "metadata": {},
      "outputs": [],
      "source": [
        "# Combining strings (concatenation)\n",
        "greeting = \"Hello, \" + name + \"!\"\n",
        "print(greeting)\n",
        "\n",
        "# Modern way using f-strings (very useful!)\n",
        "modern_greeting = f\"Hello, {name}! You are {age} years old.\"\n",
        "print(modern_greeting)"
      ]
    },
    {
      "cell_type": "markdown",
      "metadata": {},
      "source": [
        "**Exercise:** Create variables for your favorite movie, the year it was made, and whether you've seen it. Print them in a sentence."
      ]
    },
    {
      "cell_type": "markdown",
      "metadata": {},
      "source": [
        "## 3. Input and Output - Interacting with Users\n",
        "\n",
        "Programs become more interesting when they can interact with users! Let's learn how to:\n",
        "- Get input from users\n",
        "- Convert between data types\n",
        "- Format output nicely"
      ]
    },
    {
      "cell_type": "code",
      "execution_count": null,
      "metadata": {},
      "outputs": [],
      "source": [
        "# Getting user input (input() always returns a string)\n",
        "name = input(\"What's your name? \")\n",
        "print(\"Nice to meet you, \" + name + \"!\")"
      ]
    },
    {
      "cell_type": "code",
      "execution_count": null,
      "metadata": {},
      "outputs": [],
      "source": [
        "# Getting numbers from user input\n",
        "age_text = input(\"How old are you? \")\n",
        "age = int(age_text)  # Convert string to integer\n",
        "print(\"You are\", age, \"years old\")\n",
        "\n",
        "# Shorter way to get and convert numbers\n",
        "favorite_number = int(input(\"What's your favorite number? \"))\n",
        "doubled = favorite_number * 2\n",
        "print(\"Your favorite number doubled is:\", doubled)"
      ]
    },
    {
      "cell_type": "code",
      "execution_count": null,
      "metadata": {},
      "outputs": [],
      "source": [
        "# Different ways to format output\n",
        "print(\"Hello\", name, \"you are\", age, \"years old\")\n",
        "print(f\"Hello {name}, you are {age} years old\")  # f-string (modern way)\n",
        "\n",
        "# Getting decimal numbers\n",
        "temperature = float(input(\"What's the temperature today? \"))\n",
        "print(f\"It's {temperature} degrees today\")"
      ]
    },
    {
      "cell_type": "markdown",
      "metadata": {},
      "source": [
        "**Key Points:**\n",
        "- `input()` always returns a string\n",
        "- Use `int()` to convert to whole numbers\n",
        "- Use `float()` to convert to decimal numbers\n",
        "- F-strings (`f\"text {variable}\"`) are the modern way to format output"
      ]
    },
    {
      "cell_type": "markdown",
      "metadata": {},
      "source": [
        "## 4. Basic Math - Calculations in Python\n",
        "\n",
        "Python is great at math! Let's explore all the mathematical operations and some useful functions."
      ]
    },
    {
      "cell_type": "code",
      "execution_count": null,
      "metadata": {},
      "outputs": [],
      "source": [
        "# Basic arithmetic operators\n",
        "a = 10\n",
        "b = 3\n",
        "\n",
        "print(\"Addition:\", a + b)       # 13\n",
        "print(\"Subtraction:\", a - b)    # 7\n",
        "print(\"Multiplication:\", a * b) # 30\n",
        "print(\"Division:\", a / b)       # 3.333...\n",
        "print(\"Integer division:\", a // b) # 3 (rounds down)\n",
        "print(\"Remainder:\", a % b)      # 1 (modulo)\n",
        "print(\"Power:\", a ** b)         # 1000 (10 to the power of 3)"
      ]
    },
    {
      "cell_type": "code",
      "execution_count": null,
      "metadata": {},
      "outputs": [],
      "source": [
        "# Order of operations (PEMDAS)\n",
        "result = 2 + 3 * 4\n",
        "print(\"2 + 3 * 4 =\", result)  # 14 (not 20!)\n",
        "\n",
        "# Use parentheses to change order\n",
        "result = (2 + 3) * 4\n",
        "print(\"(2 + 3) * 4 =\", result)  # 20"
      ]
    },
    {
      "cell_type": "code",
      "execution_count": null,
      "metadata": {},
      "outputs": [],
      "source": [
        "# Useful built-in functions\n",
        "print(\"Absolute value of -5:\", abs(-5))\n",
        "print(\"Round 3.7:\", round(3.7))\n",
        "print(\"Round 3.14159 to 2 places:\", round(3.14159, 2))\n",
        "print(\"Maximum of 5, 8, 3:\", max(5, 8, 3))\n",
        "print(\"Minimum of 5, 8, 3:\", min(5, 8, 3))"
      ]
    },
    {
      "cell_type": "code",
      "execution_count": null,
      "metadata": {},
      "outputs": [],
      "source": [
        "# Compound assignment operators (shortcuts!)\n",
        "x = 5\n",
        "print(\"Starting x:\", x)\n",
        "\n",
        "x += 3  # Same as x = x + 3\n",
        "print(\"x after += 3:\", x)\n",
        "\n",
        "x *= 2  # Same as x = x * 2\n",
        "print(\"x after *= 2:\", x)\n",
        "\n",
        "x /= 4  # Same as x = x / 4\n",
        "print(\"x after /= 4:\", x)"
      ]
    },
    {
      "cell_type": "markdown",
      "metadata": {},
      "source": [
        "**Exercise:** Create a simple calculator that asks for two numbers and shows all operations between them."
      ]
    },
    {
      "cell_type": "markdown",
      "metadata": {},
      "source": [
        "## 5. Conditionals - Making Decisions\n",
        "\n",
        "Programs need to make decisions! Conditionals let your code choose different paths based on conditions.\n",
        "\n",
        "**Key concepts:**\n",
        "- `if`, `elif`, `else` statements\n",
        "- Comparison operators (`==`, `!=`, `>`, `<`, etc.)\n",
        "- Logical operators (`and`, `or`, `not`)"
      ]
    },
    {
      "cell_type": "code",
      "execution_count": null,
      "metadata": {},
      "outputs": [],
      "source": [
        "# Basic if statement\n",
        "age = int(input(\"How old are you? \"))\n",
        "\n",
        "if age >= 18:\n",
        "    print(\"You are an adult!\")\n",
        "else:\n",
        "    print(\"You are a minor.\")"
      ]
    },
    {
      "cell_type": "code",
      "execution_count": null,
      "metadata": {},
      "outputs": [],
      "source": [
        "# Multiple conditions with elif\n",
        "score = int(input(\"What's your test score? \"))\n",
        "\n",
        "if score >= 90:\n",
        "    print(\"Grade: A - Excellent!\")\n",
        "elif score >= 80:\n",
        "    print(\"Grade: B - Good job!\")\n",
        "elif score >= 70:\n",
        "    print(\"Grade: C - Not bad\")\n",
        "elif score >= 60:\n",
        "    print(\"Grade: D - Need to improve\")\n",
        "else:\n",
        "    print(\"Grade: F - Study harder!\")"
      ]
    },
    {
      "cell_type": "code",
      "execution_count": null,
      "metadata": {},
      "outputs": [],
      "source": [
        "# Comparison operators\n",
        "x = 10\n",
        "y = 5\n",
        "\n",
        "print(\"x == y:\", x == y)  # Equal to\n",
        "print(\"x != y:\", x != y)  # Not equal to\n",
        "print(\"x > y:\", x > y)    # Greater than\n",
        "print(\"x < y:\", x < y)    # Less than\n",
        "print(\"x >= y:\", x >= y)  # Greater than or equal\n",
        "print(\"x <= y:\", x <= y)  # Less than or equal"
      ]
    },
    {
      "cell_type": "code",
      "execution_count": null,
      "metadata": {},
      "outputs": [],
      "source": [
        "# Logical operators\n",
        "temperature = 75\n",
        "is_sunny = True\n",
        "\n",
        "if temperature > 70 and is_sunny:\n",
        "    print(\"Perfect weather for a picnic!\")\n",
        "elif temperature > 70 or is_sunny:\n",
        "    print(\"Pretty good weather!\")\n",
        "else:\n",
        "    print(\"Stay inside today.\")\n",
        "\n",
        "# Checking if something is in a range\n",
        "number = int(input(\"Enter a number: \"))\n",
        "if 1 <= number <= 10:\n",
        "    print(\"Number is between 1 and 10\")\n",
        "else:\n",
        "    print(\"Number is outside the range 1-10\")"
      ]
    },
    {
      "cell_type": "markdown",
      "metadata": {},
      "source": [
        "**Important:** Python uses indentation (spaces) to group code blocks. Everything indented under an `if` statement belongs to that condition."
      ]
    },
    {
      "cell_type": "markdown",
      "metadata": {},
      "source": [
        "## 6. Loops - Repeating Code\n",
        "\n",
        "Loops let you repeat code without writing it multiple times. There are two main types:\n",
        "- **For loops**: When you know how many times to repeat\n",
        "- **While loops**: When you repeat until a condition is met"
      ]
    },
    {
      "cell_type": "code",
      "execution_count": null,
      "metadata": {},
      "outputs": [],
      "source": [
        "# For loops - when you know how many times to repeat\n",
        "print(\"Counting to 5:\")\n",
        "for i in range(5):  # 0, 1, 2, 3, 4\n",
        "    print(i)\n",
        "\n",
        "print(\"\\nCountdown:\")\n",
        "for i in range(5, 0, -1):  # 5, 4, 3, 2, 1\n",
        "    print(i)\n",
        "print(\"Blast off!\")"
      ]
    },
    {
      "cell_type": "code",
      "execution_count": null,
      "metadata": {},
      "outputs": [],
      "source": [
        "# Different range() patterns\n",
        "print(\"Numbers 1 to 10:\")\n",
        "for num in range(1, 11):  # Start at 1, end before 11\n",
        "    print(num, end=\" \")\n",
        "print()  # New line\n",
        "\n",
        "print(\"\\nEven numbers from 0 to 20:\")\n",
        "for num in range(0, 21, 2):  # Start at 0, end before 21, step by 2\n",
        "    print(num, end=\" \")\n",
        "print()"
      ]
    },
    {
      "cell_type": "code",
      "execution_count": null,
      "metadata": {},
      "outputs": [],
      "source": [
        "# While loops - when you don't know exactly how many times\n",
        "print(\"Guessing game:\")\n",
        "secret_number = 7\n",
        "guess = 0\n",
        "\n",
        "while guess != secret_number:\n",
        "    guess = int(input(\"Guess the number (1-10): \"))\n",
        "    if guess < secret_number:\n",
        "        print(\"Too low!\")\n",
        "    elif guess > secret_number:\n",
        "        print(\"Too high!\")\n",
        "    else:\n",
        "        print(\"Correct!\")"
      ]
    },
    {
      "cell_type": "code",
      "execution_count": null,
      "metadata": {},
      "outputs": [],
      "source": [
        "# Using break and continue\n",
        "print(\"Numbers 1-10, but skip 5:\")\n",
        "for i in range(1, 11):\n",
        "    if i == 5:\n",
        "        continue  # Skip the rest of this iteration\n",
        "    print(i, end=\" \")\n",
        "print()\n",
        "\n",
        "print(\"\\nStopping at 7:\")\n",
        "for i in range(1, 11):\n",
        "    if i == 7:\n",
        "        break  # Exit the loop completely\n",
        "    print(i, end=\" \")\n",
        "print()"
      ]
    },
    {
      "cell_type": "markdown",
      "metadata": {},
      "source": [
        "**Exercise:** Write a loop that prints the multiplication table for a number the user chooses."
      ]
    },
    {
      "cell_type": "markdown",
      "metadata": {},
      "source": [
        "## 7. Lists - Storing Multiple Items\n",
        "\n",
        "Lists are one of Python's most useful features! They let you store multiple items in a single variable.\n",
        "\n",
        "**Key features:**\n",
        "- Ordered collection of items\n",
        "- Can contain different data types\n",
        "- Changeable (mutable)\n",
        "- Allow duplicate values"
      ]
    },
    {
      "cell_type": "code",
      "execution_count": null,
      "metadata": {},
      "outputs": [],
      "source": [
        "# Creating lists\n",
        "fruits = [\"apple\", \"banana\", \"orange\", \"grape\"]\n",
        "numbers = [1, 2, 3, 4, 5]\n",
        "mixed = [\"hello\", 42, 3.14, True]  # Lists can hold different types\n",
        "\n",
        "print(\"Fruits:\", fruits)\n",
        "print(\"Numbers:\", numbers)\n",
        "print(\"Mixed list:\", mixed)"
      ]
    },
    {
      "cell_type": "code",
      "execution_count": null,
      "metadata": {},
      "outputs": [],
      "source": [
        "# Accessing list items (indexing starts at 0)\n",
        "print(\"First fruit:\", fruits[0])    # apple\n",
        "print(\"Last fruit:\", fruits[-1])    # grape (negative indexing)\n",
        "print(\"Second number:\", numbers[1]) # 2\n",
        "\n",
        "# List length\n",
        "print(\"Number of fruits:\", len(fruits))"
      ]
    },
    {
      "cell_type": "code",
      "execution_count": null,
      "metadata": {},
      "outputs": [],
      "source": [
        "# Adding items to lists\n",
        "fruits.append(\"kiwi\")  # Add to end\n",
        "print(\"After adding kiwi:\", fruits)\n",
        "\n",
        "fruits.insert(1, \"mango\")  # Insert at position 1\n",
        "print(\"After inserting mango:\", fruits)"
      ]
    },
    {
      "cell_type": "code",
      "execution_count": null,
      "metadata": {},
      "outputs": [],
      "source": [
        "# Removing items\n",
        "fruits.remove(\"banana\")  # Remove first occurrence\n",
        "print(\"After removing banana:\", fruits)\n",
        "\n",
        "last_fruit = fruits.pop()  # Remove and return last item\n",
        "print(\"Removed:\", last_fruit)\n",
        "print(\"Remaining fruits:\", fruits)"
      ]
    },
    {
      "cell_type": "code",
      "execution_count": null,
      "metadata": {},
      "outputs": [],
      "source": [
        "# Checking if item is in list\n",
        "if \"apple\" in fruits:\n",
        "    print(\"Apple is in the list!\")\n",
        "\n",
        "if \"pineapple\" not in fruits:\n",
        "    print(\"No pineapple in the list\")"
      ]
    },
    {
      "cell_type": "code",
      "execution_count": null,
      "metadata": {},
      "outputs": [],
      "source": [
        "# Looping through lists\n",
        "print(\"\\nAll fruits:\")\n",
        "for fruit in fruits:\n",
        "    print(f\"I like {fruit}\")\n",
        "\n",
        "print(\"\\nFruits with their positions:\")\n",
        "for i, fruit in enumerate(fruits):\n",
        "    print(f\"{i}: {fruit}\")"
      ]
    },
    {
      "cell_type": "code",
      "execution_count": null,
      "metadata": {},
      "outputs": [],
      "source": [
        "# List slicing (getting parts of lists)\n",
        "numbers = [0, 1, 2, 3, 4, 5, 6, 7, 8, 9]\n",
        "print(\"All numbers:\", numbers)\n",
        "print(\"First 3 numbers:\", numbers[:3])      # [0, 1, 2]\n",
        "print(\"Last 3 numbers:\", numbers[-3:])      # [7, 8, 9]\n",
        "print(\"Middle numbers:\", numbers[3:7])      # [3, 4, 5, 6]\n",
        "print(\"Every other number:\", numbers[::2])  # [0, 2, 4, 6, 8]"
      ]
    },
    {
      "cell_type": "markdown",
      "metadata": {},
      "source": [
        "**Exercise:** Create a list of your favorite movies, add a new one, remove one you don't like anymore, and print them all with numbers."
      ]
    },
    {
      "cell_type": "markdown",
      "metadata": {},
      "source": [
        "## 8. Functions - Reusable Code Blocks\n",
        "\n",
        "Functions are reusable pieces of code that perform specific tasks. They help organize your code and avoid repetition.\n",
        "\n",
        "**Benefits:**\n",
        "- Avoid repeating code\n",
        "- Make code more organized\n",
        "- Easier to test and debug\n",
        "- Can be reused in different programs"
      ]
    },
    {
      "cell_type": "code",
      "execution_count": null,
      "metadata": {},
      "outputs": [],
      "source": [
        "# Basic function definition\n",
        "def greet():\n",
        "    print(\"Hello there!\")\n",
        "    print(\"How are you today?\")\n",
        "\n",
        "# Calling the function\n",
        "greet()\n",
        "greet()  # Can call it multiple times"
      ]
    },
    {
      "cell_type": "code",
      "execution_count": null,
      "metadata": {},
      "outputs": [],
      "source": [
        "# Function with parameters\n",
        "def greet_person(name):\n",
        "    print(f\"Hello, {name}!\")\n",
        "    print(f\"Nice to meet you, {name}!\")\n",
        "\n",
        "greet_person(\"Alice\")\n",
        "greet_person(\"Bob\")"
      ]
    },
    {
      "cell_type": "code",
      "execution_count": null,
      "metadata": {},
      "outputs": [],
      "source": [
        "# Function with multiple parameters\n",
        "def add_numbers(a, b):\n",
        "    result = a + b\n",
        "    print(f\"{a} + {b} = {result}\")\n",
        "\n",
        "add_numbers(5, 3)\n",
        "add_numbers(10, 20)"
      ]
    },
    {
      "cell_type": "code",
      "execution_count": null,
      "metadata": {},
      "outputs": [],
      "source": [
        "# Function that returns a value\n",
        "def multiply(x, y):\n",
        "    return x * y\n",
        "\n",
        "result = multiply(4, 7)\n",
        "print(\"4 × 7 =\", result)\n",
        "\n",
        "# You can use the return value directly\n",
        "print(\"6 × 8 =\", multiply(6, 8))"
      ]
    },
    {
      "cell_type": "code",
      "execution_count": null,
      "metadata": {},
      "outputs": [],
      "source": [
        "# Function with default parameters\n",
        "def introduce(name, age=25):\n",
        "    print(f\"Hi, I'm {name} and I'm {age} years old\")\n",
        "\n",
        "introduce(\"Charlie\")      # Uses default age of 25\n",
        "introduce(\"Diana\", 30)    # Uses provided age of 30"
      ]
    },
    {
      "cell_type": "code",
      "execution_count": null,
      "metadata": {},
      "outputs": [],
      "source": [
        "# Function that works with lists\n",
        "def find_max(numbers):\n",
        "    if not numbers:  # Check if list is empty\n",
        "        return None\n",
        "    \n",
        "    maximum = numbers[0]\n",
        "    for num in numbers:\n",
        "        if num > maximum:\n",
        "            maximum = num\n",
        "    return maximum\n",
        "\n",
        "my_numbers = [3, 7, 2, 9, 1, 8]\n",
        "biggest = find_max(my_numbers)\n",
        "print(\"Biggest number:\", biggest)"
      ]
    },
    {
      "cell_type": "code",
      "execution_count": null,
      "metadata": {},
      "outputs": [],
      "source": [
        "# Function with multiple return values\n",
        "def get_name_parts(full_name):\n",
        "    parts = full_name.split()\n",
        "    first_name = parts[0]\n",
        "    last_name = parts[-1]\n",
        "    return first_name, last_name\n",
        "\n",
        "first, last = get_name_parts(\"John Smith\")\n",
        "print(\"First name:\", first)\n",
        "print(\"Last name:\", last)"
      ]
    },
    {
      "cell_type": "markdown",
      "metadata": {},
      "source": [
        "**Exercise:** Write a function that takes a list of numbers and returns both the sum and the average."
      ]
    },
    {
      "cell_type": "markdown",
      "metadata": {},
      "source": [
        "## 9. Dictionaries - Key-Value Pairs\n",
        "\n",
        "Dictionaries store data in key-value pairs. Think of them like a real dictionary where you look up a word (key) to find its definition (value).\n",
        "\n",
        "**Key features:**\n",
        "- Unordered collection of key-value pairs\n",
        "- Keys must be unique\n",
        "- Values can be any data type\n",
        "- Very fast for lookups"
      ]
    },
    {
      "cell_type": "code",
      "execution_count": null,
      "metadata": {},
      "outputs": [],
      "source": [
        "# Creating dictionaries\n",
        "person = {\n",
        "    \"name\": \"Alice\",\n",
        "    \"age\": 30,\n",
        "    \"city\": \"New York\",\n",
        "    \"job\": \"Engineer\"\n",
        "}\n",
        "\n",
        "print(\"Person dictionary:\", person)"
      ]
    },
    {
      "cell_type": "code",
      "execution_count": null,
      "metadata": {},
      "outputs": [],
      "source": [
        "# Accessing values by key\n",
        "print(\"Name:\", person[\"name\"])\n",
        "print(\"Age:\", person[\"age\"])\n",
        "\n",
        "# Safer way to access (won't crash if key doesn't exist)\n",
        "print(\"Name:\", person.get(\"name\"))\n",
        "print(\"Country:\", person.get(\"country\", \"Unknown\"))  # Default value"
      ]
    },
    {
      "cell_type": "code",
      "execution_count": null,
      "metadata": {},
      "outputs": [],
      "source": [
        "# Adding new key-value pairs\n",
        "person[\"email\"] = \"alice@email.com\"\n",
        "person[\"hobby\"] = \"reading\"\n",
        "\n",
        "print(\"Updated person:\", person)\n",
        "\n",
        "# Modifying existing values\n",
        "person[\"age\"] = 31\n",
        "print(\"New age:\", person[\"age\"])"
      ]
    },
    {
      "cell_type": "code",
      "execution_count": null,
      "metadata": {},
      "outputs": [],
      "source": [
        "# Checking if key exists\n",
        "if \"name\" in person:\n",
        "    print(\"Person has a name!\")\n",
        "\n",
        "if \"phone\" not in person:\n",
        "    print(\"No phone number stored\")"
      ]
    },
    {
      "cell_type": "code",
      "execution_count": null,
      "metadata": {},
      "outputs": [],
      "source": [
        "# Getting all keys, values, or items\n",
        "print(\"\\nAll keys:\", list(person.keys()))\n",
        "print(\"All values:\", list(person.values()))\n",
        "print(\"All items:\", list(person.items()))"
      ]
    },
    {
      "cell_type": "code",
      "execution_count": null,
      "metadata": {},
      "outputs": [],
      "source": [
        "# Looping through dictionaries\n",
        "print(\"\\nPerson details:\")\n",
        "for key, value in person.items():\n",
        "    print(f\"{key}: {value}\")"
      ]
    },
    {
      "cell_type": "code",
      "execution_count": null,
      "metadata": {},
      "outputs": [],
      "source": [
        "# Dictionary of lists\n",
        "grades = {\n",
        "    \"math\": [85, 90, 88],\n",
        "    \"english\": [92, 87, 95],\n",
        "    \"science\": [78, 82, 85]\n",
        "}\n",
        "\n",
        "print(\"\\nGrades:\")\n",
        "for subject, scores in grades.items():\n",
        "    average = sum(scores) / len(scores)\n",
        "    print(f\"{subject}: {scores} (Average: {average:.1f})\")"
      ]
    },
    {
      "cell_type": "code",
      "execution_count": null,
      "metadata": {},
      "outputs": [],
      "source": [
        "# List of dictionaries\n",
        "students = [\n",
        "    {\"name\": \"Alice\", \"grade\": 85},\n",
        "    {\"name\": \"Bob\", \"grade\": 92},\n",
        "    {\"name\": \"Charlie\", \"grade\": 78}\n",
        "]\n",
        "\n",
        "print(\"\\nStudent grades:\")\n",
        "for student in students:\n",
        "    print(f\"{student['name']}: {student['grade']}\")"
      ]
    },
    {
      "cell_type": "code",
      "execution_count": null,
      "metadata": {},
      "outputs": [],
      "source": [
        "# Nested dictionaries\n",
        "school = {\n",
        "    \"name\": \"Central High\",\n",
        "    \"classes\": {\n",
        "        \"math\": {\"teacher\": \"Mr. Smith\", \"students\": 25},\n",
        "        \"english\": {\"teacher\": \"Ms. Johnson\", \"students\": 22}\n",
        "    }\n",
        "}\n",
        "\n",
        "print(\"\\nMath teacher:\", school[\"classes\"][\"math\"][\"teacher\"])\n",
        "print(\"English class size:\", school[\"classes\"][\"english\"][\"students\"])"
      ]
    },
    {
      "cell_type": "markdown",
      "metadata": {},
      "source": [
        "**Exercise:** Create a dictionary to store information about your favorite books (title, author, year, rating) and print them in a nice format."
      ]
    },
    {
      "cell_type": "markdown",
      "metadata": {},
      "source": [
        "## 10. File Handling - Reading and Writing Files\n",
        "\n",
        "File handling lets your programs save data permanently and read data from files. This is crucial for making programs that remember information between runs.\n",
        "\n",
        "**Key concepts:**\n",
        "- Opening files with different modes (read, write, append)\n",
        "- Using `with` statements for safe file handling\n",
        "- Reading entire files or line by line\n",
        "- Error handling for missing files"
      ]
    },
    {
      "cell_type": "code",
      "execution_count": null,
      "metadata": {},
      "outputs": [],
      "source": [
        "# Writing to a file\n",
        "def write_to_file():\n",
        "    # Create and write to a file\n",
        "    with open(\"sample.txt\", \"w\") as file:\n",
        "        file.write(\"Hello, this is my first file!\\n\")\n",
        "        file.write(\"Python makes file handling easy.\\n\")\n",
        "        file.write(\"This is the third line.\\n\")\n",
        "    \n",
        "    print(\"File 'sample.txt' has been created!\")\n",
        "\n",
        "write_to_file()"
      ]
    },
    {
      "cell_type": "code",
      "execution_count": null,
      "metadata": {},
      "outputs": [],
      "source": [
        "# Reading from a file\n",
        "def read_entire_file():\n",
        "    try:\n",
        "        with open(\"sample.txt\", \"r\") as file:\n",
        "            content = file.read()\n",
        "            print(\"File contents:\")\n",
        "            print(content)\n",
        "    except FileNotFoundError:\n",
        "        print(\"File not found! Make sure to run write_to_file() first.\")\n",
        "\n",
        "read_entire_file()"
      ]
    },
    {
      "cell_type": "code",
      "execution_count": null,
      "metadata": {},
      "outputs": [],
      "source": [
        "# Reading line by line\n",
        "def read_line_by_line():\n",
        "    try:\n",
        "        with open(\"sample.txt\", \"r\") as file:\n",
        "            print(\"Reading line by line:\")\n",
        "            line_number = 1\n",
        "            for line in file:\n",
        "                print(f\"Line {line_number}: {line.strip()}\")\n",
        "                line_number += 1\n",
        "    except FileNotFoundError:\n",
        "        print(\"File not found!\")\n",
        "\n",
        "read_line_by_line()"
      ]
    },
    {
      "cell_type": "code",
      "execution_count": null,
      "metadata": {},
      "outputs": [],
      "source": [
        "# Appending to a file\n",
        "def append_to_file():\n",
        "    with open(\"sample.txt\", \"a\") as file:\n",
        "        file.write(\"This line was added later.\\n\")\n",
        "        file.write(\"You can append multiple lines!\\n\")\n",
        "    \n",
        "    print(\"Text appended to file!\")\n",
        "\n",
        "append_to_file()\n",
        "read_entire_file()  # Show the updated content"
      ]
    },
    {
      "cell_type": "code",
      "execution_count": null,
      "metadata": {},
      "outputs": [],
      "source": [
        "# Working with CSV-like data\n",
        "def write_student_data():\n",
        "    students = [\n",
        "        \"Alice,85,Math\",\n",
        "        \"Bob,92,Science\", \n",
        "        \"Charlie,78,English\"\n",
        "    ]\n",
        "    \n",
        "    with open(\"students.txt\", \"w\") as file:\n",
        "        file.write(\"Name,Grade,Subject\\n\")  # Header\n",
        "        for student in students:\n",
        "            file.write(student + \"\\n\")\n",
        "    \n",
        "    print(\"Student data written to 'students.txt'!\")\n",
        "\n",
        "def read_student_data():\n",
        "    try:\n",
        "        with open(\"students.txt\", \"r\") as file:\n",
        "            lines = file.readlines()\n",
        "            print(\"Student data:\")\n",
        "            for line in lines:\n",
        "                print(line.strip())\n",
        "    except FileNotFoundError:\n",
        "        print(\"Student file not found!\")\n",
        "\n",
        "write_student_data()\n",
        "read_student_data()"
      ]
    },
    {
      "cell_type": "code",
      "execution_count": null,
      "metadata": {},
      "outputs": [],
      "source": [
        "# Example of processing file data\n",
        "def analyze_student_data():\n",
        "    try:\n",
        "        with open(\"students.txt\", \"r\") as file:\n",
        "            lines = file.readlines()\n",
        "            \n",
        "            print(\"\\nStudent Analysis:\")\n",
        "            # Skip header line\n",
        "            for line in lines[1:]:\n",
        "                parts = line.strip().split(\",\")\n",
        "                name = parts[0]\n",
        "                grade = int(parts[1])\n",
        "                subject = parts[2]\n",
        "                \n",
        "                if grade >= 90:\n",
        "                    print(f\"{name} got an A in {subject}!\")\n",
        "                elif grade >= 80:\n",
        "                    print(f\"{name} got a B in {subject}\")\n",
        "                else:\n",
        "                    print(f\"{name} needs improvement in {subject}\")\n",
        "    \n",
        "    except FileNotFoundError:\n",
        "        print(\"Student file not found!\")\n",
        "    except (ValueError, IndexError):\n",
        "        print(\"Error reading file data!\")\n",
        "\n",
        "analyze_student_data()"
      ]
    },
    {
      "cell_type": "markdown",
      "metadata": {},
      "source": [
        "**Important File Modes:**\n",
        "- `\"r\"`: Read only (default)\n",
        "- `\"w\"`: Write only (overwrites existing file)\n",
        "- `\"a\"`: Append (adds to end of file)\n",
        "- `\"r+\"`: Read and write\n",
        "\n",
        "**Best Practices:**\n",
        "- Always use `with` statements for file handling\n",
        "- Use try-except blocks to handle missing files\n",
        "- Remember to strip `\\n` characters when reading lines"
      ]
    },
    {
      "cell_type": "markdown",
      "metadata": {},
      "source": [
        "## 🎉 Congratulations!\n",
        "\n",
        "You've completed the Python basics! You now know:\n",
        "\n",
        "1. **Basic syntax** - print, comments, variables\n",
        "2. **Data types** - strings, numbers, booleans\n",
        "3. **User interaction** - input and output\n",
        "4. **Math operations** - arithmetic and built-in functions\n",
        "5. **Decision making** - if/elif/else statements\n",
        "6. **Repetition** - for and while loops\n",
        "7. **Data collections** - lists for multiple items\n",
        "8. **Code organization** - functions for reusability\n",
        "9. **Data organization** - dictionaries for key-value pairs\n",
        "10. **Data persistence** - reading and writing files\n",
        "\n",
        "## Next Steps\n",
        "\n",
        "Now that you know the basics, here are some things to explore:\n",
        "\n",
        "- **Error handling** with try-except blocks\n",
        "- **Object-oriented programming** with classes\n",
        "- **Libraries** like requests, pandas, matplotlib\n",
        "- **Web development** with Flask or Django\n",
        "- **Data science** with pandas and numpy\n",
        "- **Automation** scripts for daily tasks\n",
        "\n",
        "## Practice Projects\n",
        "\n",
        "Try building these projects using what you've learned:\n",
        "\n",
        "1. **To-Do List Manager** - Add, remove, and save tasks to a file\n",
        "2. **Grade Calculator** - Calculate averages and save student data\n",
        "3. **Word Counter** - Count words in text files\n",
        "4. **Simple Quiz Game** - Ask questions and track scores\n",
        "5. **Expense Tracker** - Log and categorize expenses\n",
        "\n",
        "Keep practicing and building projects - that's the best way to learn programming!\n",
        "\n",
        "**Happy coding! 🐍**"
      ]
    }
  ],
  "metadata": {
    "kernelspec": {
      "display_name": "old_numpy_env",
      "language": "python",
      "name": "python3"
    },
    "language_info": {
      "codemirror_mode": {
        "name": "ipython",
        "version": 3
      },
      "file_extension": ".py",
      "mimetype": "text/x-python",
      "name": "python",
      "nbconvert_exporter": "python",
      "pygments_lexer": "ipython3",
      "version": "3.11.2"
    }
  },
  "nbformat": 4,
  "nbformat_minor": 4
}
