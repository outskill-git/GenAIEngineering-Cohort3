{
 "cells": [
  {
   "cell_type": "markdown",
   "metadata": {},
   "source": [
    "### Virtual Environment  \n",
    "\n",
    "2 different virtual environment is created and used for the cells below   \n",
    "Try activating different environment and execute the code cells "
   ]
  },
  {
   "cell_type": "code",
   "execution_count": null,
   "metadata": {},
   "outputs": [],
   "source": [
    "# Import the Groq library\n",
    "from groq import Groq\n",
    "\n",
    "# Create a groq client\n",
    "G_client = Groq (api_key=\"Your Key\")"
   ]
  },
  {
   "cell_type": "code",
   "execution_count": null,
   "metadata": {},
   "outputs": [],
   "source": [
    "# Import pandas library and create a data frame\n",
    "import pandas as pd\n",
    "\n",
    "# Create a data frame\n",
    "DF = pd.DataFrame ({'C1' : [1,2,3], 'C2' : [2,3,4]})\n",
    "DF"
   ]
  }
 ],
 "metadata": {
  "kernelspec": {
   "display_name": "Python 3",
   "language": "python",
   "name": "python3"
  },
  "language_info": {
   "codemirror_mode": {
    "name": "ipython",
    "version": 3
   },
   "file_extension": ".py",
   "mimetype": "text/x-python",
   "name": "python",
   "nbconvert_exporter": "python",
   "pygments_lexer": "ipython3",
   "version": "3.11.2"
  }
 },
 "nbformat": 4,
 "nbformat_minor": 2
}
