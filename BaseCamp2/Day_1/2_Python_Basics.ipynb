{
 "cells": [
  {
   "cell_type": "markdown",
   "metadata": {},
   "source": [
    "### Python Data types\n",
    "Python considers **dynamic typing**. i.e. Variable while assigned a value, takes a type  \n",
    "If reassigned another value, takes that type  \n",
    "Basic types : int, float, str, bool"
   ]
  },
  {
   "cell_type": "code",
   "execution_count": null,
   "metadata": {},
   "outputs": [],
   "source": [
    "# Assign an integer value and check type\n",
    "Var = 5\n",
    "print (type (Var))\n",
    "\n",
    "# Re-assign with a float and check type\n",
    "Var = 27.56\n",
    "print (type (Var))\n",
    "\n",
    "# Re-assign a bool value\n",
    "Var = True\n",
    "print (type (Var))\n",
    "\n",
    "Var = \"This is a string\"\n",
    "print (type (Var))\n",
    "\n",
    "# ?? How does the type printed? What is the significance?"
   ]
  },
  {
   "cell_type": "markdown",
   "metadata": {},
   "source": [
    "**Type Cast**  \n",
    "Make use of casting / conversion to explicitly change types : which might be required in some cases for safe operation  \n",
    "Observe the type change after the casting. Also the values being treated"
   ]
  },
  {
   "cell_type": "code",
   "execution_count": null,
   "metadata": {},
   "outputs": [],
   "source": [
    "# Assign integer\n",
    "Var = 45\n",
    "print (type(Var), Var)\n",
    "\n",
    "# Type cast\n",
    "Var_Tc = float(Var)\n",
    "print (type(Var_Tc), Var_Tc)"
   ]
  },
  {
   "cell_type": "code",
   "execution_count": 2,
   "metadata": {},
   "outputs": [
    {
     "name": "stdout",
     "output_type": "stream",
     "text": [
      "<class 'float'> 67.76\n",
      "<class 'int'> 67\n",
      "<class 'int'> 68\n",
      "<class 'int'> 68\n"
     ]
    }
   ],
   "source": [
    "# The other way : float to int\n",
    "# ?? What would be the difference \n",
    "Var = 67.76\n",
    "print (type(Var), Var)\n",
    "\n",
    "# Type cast\n",
    "Var_Tc = int(Var)\n",
    "print (type(Var_Tc), Var_Tc)\n",
    "\n",
    "# Round off then Type cast\n",
    "Var_round = round(Var)\n",
    "Var_Tc = int(Var_round)\n",
    "print (type(Var_round), Var_round)\n",
    "print (type(Var_Tc), Var_Tc)"
   ]
  },
  {
   "cell_type": "code",
   "execution_count": null,
   "metadata": {},
   "outputs": [],
   "source": [
    "# Various types of variables\n",
    "var_int = 14\n",
    "var_fl = 78.5\n",
    "var_bool = True\n",
    "var_str = \"The value is : \"\n",
    "\n",
    "# With & without casting\n",
    "print (var_str, str(var_fl))\n",
    "print (var_fl, (var_fl*2))\n",
    "\n",
    "# Observe the value being treated in bool comparison\n",
    "if (bool(var_int) == var_bool):\n",
    "    print ('Non zero integer is considered True')"
   ]
  },
  {
   "cell_type": "markdown",
   "metadata": {},
   "source": [
    "**Type** of a variable is represented as a class  \n",
    "it means each basic type has its pre-defined specific methods that can be used when a variable is made as a specific type"
   ]
  },
  {
   "cell_type": "code",
   "execution_count": 10,
   "metadata": {},
   "outputs": [
    {
     "name": "stdout",
     "output_type": "stream",
     "text": [
      "13\n",
      "b'\\x00\\x00\\x1e\\xcf'\n"
     ]
    }
   ],
   "source": [
    "# An integer variable : int is not just type, its a class\n",
    "# it has its own methods. Try some\n",
    "var_int = 7887\n",
    "\n",
    "print (var_int.bit_length())\n",
    "print (var_int.to_bytes(4))\n"
   ]
  },
  {
   "cell_type": "markdown",
   "metadata": {},
   "source": [
    "*Data type of resulting variable in arithmatic operation takes the suitable one*"
   ]
  },
  {
   "cell_type": "code",
   "execution_count": null,
   "metadata": {},
   "outputs": [],
   "source": [
    "# 2 Integer variables being added to another variable\n",
    "i1 = i2 = 3\n",
    "i3 = i1 + i2\n",
    "print (\"Type of i3 :\",type (i3))"
   ]
  },
  {
   "cell_type": "code",
   "execution_count": null,
   "metadata": {},
   "outputs": [],
   "source": [
    "# 2 float variables being added to another variable\n",
    "i1 = i2 = 21.4\n",
    "i3 = i1 + i2\n",
    "print (\"Type of i3 :\",type (i3))"
   ]
  },
  {
   "cell_type": "code",
   "execution_count": null,
   "metadata": {},
   "outputs": [],
   "source": [
    "# Variable of diff types used in operation\n",
    "i1 = 3.2\n",
    "i2 = 7\n",
    "i3 = i1 * i2\n",
    "print (\"Type of i3 :\",type (i3))"
   ]
  },
  {
   "cell_type": "markdown",
   "metadata": {},
   "source": [
    "### Control Statements\n",
    "**There are 3 main control statements :**  \n",
    ">If condition  \n",
    ">Loop  \n",
    ">Jump statements"
   ]
  },
  {
   "cell_type": "markdown",
   "metadata": {},
   "source": [
    "**If condition**  \n",
    "\\\n",
    "There are various ways to use If condition. Unlike typical programming, usage of condition is versatile"
   ]
  },
  {
   "cell_type": "code",
   "execution_count": null,
   "metadata": {},
   "outputs": [],
   "source": [
    "# Typical usage of if - elif - else\n",
    "# indentation gives the block of control statement\n",
    "\n",
    "Var = 55\n",
    "\n",
    "if (Var > 100) : \n",
    "    print ('Value greater than 100')\n",
    "\n",
    "elif Var == 100:    # no paranthesis needed\n",
    "    print ('Value is 100')\n",
    "\n",
    "else: print ('Value less than 100') # No new line required."
   ]
  },
  {
   "cell_type": "code",
   "execution_count": null,
   "metadata": {},
   "outputs": [],
   "source": [
    "# Chained condition. Equivalent to multiple conditions given in a sequence\n",
    "\n",
    "Var_1 = 100\n",
    "Var_2 = 700\n",
    "\n",
    "if 50 < Var_1 < 200 < Var_2 < 1000:\n",
    "\n",
    "    print ('Var 1 between 50 and 200 AND Var 2 between 200 and 1000')\n"
   ]
  },
  {
   "cell_type": "markdown",
   "metadata": {},
   "source": [
    "Its **not** True or False  \n",
    "**Its** *Trueness* or *Falseness* in condition  \n",
    "?? What is it"
   ]
  },
  {
   "cell_type": "code",
   "execution_count": null,
   "metadata": {},
   "outputs": [],
   "source": [
    "# If condition does not necessarily require a bool value / expression\n",
    "# Its versatile to consider various values and types\n",
    "\n",
    "Var = True\n",
    "if (Var) :\n",
    "    print ('Boolean True')\n",
    "\n",
    "Var = 0\n",
    "if (Var) :\n",
    "    print ('Non zero integer as True')\n",
    "else:\n",
    "    print ('Zero in integer as False ')\n",
    "\n",
    "Var = 54954.56\n",
    "if (Var) :\n",
    "    print ('Float as True')\n",
    "\n",
    "Var = \"\"\n",
    "if (Var):\n",
    "    print ('String value as True')\n",
    "else :\n",
    "    print (\"Empty string as False\")\n",
    "\n",
    "Var = None\n",
    "if Var:\n",
    "    print (\"'None' is not True\")\n",
    "else:\n",
    "    print (\"'None' is in fact False\")"
   ]
  },
  {
   "cell_type": "code",
   "execution_count": null,
   "metadata": {},
   "outputs": [],
   "source": [
    "# Condition with logical statements\n",
    "v_i = 498\n",
    "v_s = 'String'\n",
    "\n",
    "if (v_i and v_s):\n",
    "    print (\"Both are True\")\n",
    "\n",
    "if ((v_i or v_s) and not (v_i and v_s)):\n",
    "    print ('Either is True. But not both')\n",
    "    print (\"Can this 2nd condition be simplified ...??\")"
   ]
  },
  {
   "cell_type": "markdown",
   "metadata": {},
   "source": [
    "**For Loop**  \n",
    "\\\n",
    "The 'For' loop in python can be used in a many ways  \n",
    "It can be used for range, steps, iterative elements etc"
   ]
  },
  {
   "cell_type": "code",
   "execution_count": null,
   "metadata": {},
   "outputs": [],
   "source": [
    "# For a range of iteration\n",
    "for i in range (5):\n",
    "    print ('Value is '+str(i))"
   ]
  },
  {
   "cell_type": "code",
   "execution_count": null,
   "metadata": {},
   "outputs": [],
   "source": [
    "# For a particular range with step\n",
    "# Notice that no type casting required in print\n",
    "for i in range (2, 20, 2): # From 2 till 20 (excluded) in steps of 2\n",
    "    print ('Value is ', i)"
   ]
  },
  {
   "cell_type": "code",
   "execution_count": null,
   "metadata": {},
   "outputs": [],
   "source": [
    "# Loop through in reversed order by this specific function\n",
    "for i in reversed(range(10)):\n",
    " print ('Value is ', str(i))"
   ]
  },
  {
   "cell_type": "code",
   "execution_count": null,
   "metadata": {},
   "outputs": [],
   "source": [
    "# Loop over an iterable. Here a list (we learn more about list later)\n",
    "ls = ['This', 'is', 'list', 'with', 2, 10.4]\n",
    "\n",
    "for item in ls:\n",
    "    print (item)"
   ]
  },
  {
   "cell_type": "markdown",
   "metadata": {},
   "source": [
    "**While Loop**   \n",
    "The 'While' loop is used typically for 'indefinite' range   \n",
    "?? Where would it be useful ? Any example ?"
   ]
  },
  {
   "cell_type": "code",
   "execution_count": null,
   "metadata": {},
   "outputs": [],
   "source": [
    "Input = 'x'\n",
    "\n",
    "# Be in loop, seek input from user. As long as not 'exit', continue in loop\n",
    "while (Input != 'exit') and (Input != 'Exit'):\n",
    "\n",
    "    Input = input (\"Say something or 'exit' ...\")\n",
    "\n",
    "    if (Input != 'exit') and (input != 'Exit'):\n",
    "        print (Input)"
   ]
  },
  {
   "cell_type": "markdown",
   "metadata": {},
   "source": [
    ">Context manager (with) is a specific feature that will help to maintain context for a part of script  \n",
    ">The context (any function call and its output etc) are kept for the block of code  \n",
    ">even in case of exception, the closure is performed (resourcers released etc)"
   ]
  },
  {
   "cell_type": "code",
   "execution_count": null,
   "metadata": {},
   "outputs": [],
   "source": [
    "# Read the file and kept reading lines as long as its there.\n",
    "\n",
    "with open ('Input.txt', mode='r') as File:\n",
    "\n",
    "    Line = File.readline ()\n",
    "\n",
    "    while Line :\n",
    "\n",
    "        print (Line)\n",
    "        Line = File.readline ()"
   ]
  },
  {
   "cell_type": "markdown",
   "metadata": {},
   "source": [
    "**Jump Statements**  \n",
    "\\\n",
    "The 'break' statement, breaks the loop iteration and moves out. It breaks the immediate containing loop  \n",
    "The 'continue' statement skips the remaining part of current loop iteration, continues with the next iteration"
   ]
  },
  {
   "cell_type": "code",
   "execution_count": null,
   "metadata": {},
   "outputs": [],
   "source": [
    "# A for loop, break exits on a condition ...\n",
    "\n",
    "for i in range (10):\n",
    "\n",
    "    print ('Iteration value ', str (i))\n",
    "\n",
    "    if (i == 7):\n",
    "        break"
   ]
  },
  {
   "cell_type": "code",
   "execution_count": null,
   "metadata": {},
   "outputs": [],
   "source": [
    "# Nested loop, break exits from the inner loop on a condition\n",
    "\n",
    "for x in range (5):\n",
    "\n",
    "    for y in range (3):\n",
    "\n",
    "        if x == 2:\n",
    "            break\n",
    "        else :\n",
    "            print ('Outer : ', str (x), '. Inner ', str (y))\n"
   ]
  },
  {
   "cell_type": "code",
   "execution_count": null,
   "metadata": {},
   "outputs": [],
   "source": [
    "# Certain part of the loop content is broken on condition and remainig is continued\n",
    "\n",
    "for i in range (5):\n",
    "\n",
    "    print ('First print of iteration ', str(i))\n",
    "    \n",
    "    if i == 3:\n",
    "        continue\n",
    "    \n",
    "    print ('Second print of iteration ', str(i))"
   ]
  },
  {
   "cell_type": "markdown",
   "metadata": {},
   "source": [
    "?? What do you think can be disadvantage of break / continue in loops?"
   ]
  },
  {
   "cell_type": "markdown",
   "metadata": {},
   "source": [
    "**Else for a loop**  \n",
    "\\\n",
    "You can have a Else part for a loop  \n",
    "It signifies if there was no break occured (read it like the else part of condition that has break)"
   ]
  },
  {
   "cell_type": "code",
   "execution_count": null,
   "metadata": {},
   "outputs": [],
   "source": [
    "Var = 15\n",
    "\n",
    "for i in range (10):\n",
    "\n",
    "    if i ==  Var:\n",
    "        break\n",
    "    else :\n",
    "        print ('Value is ', str(i))\n",
    "\n",
    "else:\n",
    "    print ('Loop completed without break')"
   ]
  }
 ],
 "metadata": {
  "kernelspec": {
   "display_name": "Python 3",
   "language": "python",
   "name": "python3"
  },
  "language_info": {
   "codemirror_mode": {
    "name": "ipython",
    "version": 3
   },
   "file_extension": ".py",
   "mimetype": "text/x-python",
   "name": "python",
   "nbconvert_exporter": "python",
   "pygments_lexer": "ipython3",
   "version": "3.11.2"
  }
 },
 "nbformat": 4,
 "nbformat_minor": 2
}
